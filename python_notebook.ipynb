{
 "cells": [
  {
   "cell_type": "code",
   "execution_count": 2,
   "metadata": {},
   "outputs": [],
   "source": [
    "import numpy as np\n",
    "import pandas as pd\n",
    "import matplotlib.pyplot as plt        \n",
    "import seaborn as sns\n",
    "%matplotlib inline\n",
    "\n",
    "from sklearn.linear_model import LinearRegression\n",
    "import numpy as np\n",
    "import os "
   ]
  },
  {
   "cell_type": "code",
   "execution_count": 3,
   "metadata": {},
   "outputs": [],
   "source": [
    "def calculate_mean(df,column_name):\n",
    "   return df[column_name].mean()\n",
    "\n",
    "def replace_mis_val_mean(df,column_name):\n",
    "    mean_val = calculate_mean(df,column_name)\n",
    "    df.loc[df[column_name].isna(),column_name] = mean_val\n",
    "    return df \n",
    "    \n",
    "\n",
    "\n",
    "    \n",
    "def mis_replace_linear_regression(df,X_col=[\"minPrice\"],Y_col=\"modalPrice\"):\n",
    "    #Missing value Treatment \n",
    "    #Method 2 : using function approximation. \n",
    "    # Y_col = \"modalPrice\"\n",
    "    # X_col = [\"minPrice\"]\n",
    "    ################################################################\n",
    "    df_yes_na = df[df[Y_col].isna()]\n",
    "    if(len(df_yes_na) == 0):\n",
    "        print(\"Nothing to predict, no null values!!!!\")\n",
    "        return df\n",
    "    \n",
    "    ################################################################\n",
    "    # One without no null values in modalprice \n",
    "    #Filtering data \n",
    "    df_not_na = df[df[Y_col].notna()]\n",
    "    for x_col_name in X_col:\n",
    "        df_not_na = df_not_na[df_not_na[x_col_name].notna()]\n",
    "    # Defining a linear model for mapping x = [\"minPrice\"], y = \"modalPrice\"\n",
    "    X = np.array(np.matrix(df_not_na[X_col]))\n",
    "    Y = np.array(np.matrix(df_not_na[Y_col]).T) \n",
    "    #print(X)\n",
    "    try: \n",
    "        lin_reg   = LinearRegression()\n",
    "        lin_model = lin_reg.fit(X,Y)\n",
    "    except:\n",
    "        print(\"The Linear regression model didn't run!!!!. Problem with the data. \")\n",
    "    ################################################################\n",
    "    ##Replacing the predicted values!!!!....\n",
    "    X_test    = np.array(np.matrix(df_yes_na[X_col]))\n",
    "    Y_test    = lin_model.predict(X_test)\n",
    "    list_index_mis_values = list(df_yes_na.index)\n",
    "    df.loc[list_index_mis_values,Y_col] = Y_test\n",
    "    ################################################################\n",
    "    \n",
    "    ##testing if null values are replaces using linear regression method. \n",
    "    try:\n",
    "        assert len(df[df[Y_col].isna()])== 0\n",
    "    except:\n",
    "        print(\"The null values are not replaced correctly!!!. Don't execute next code.\")\n",
    "    \n",
    "    ################################################################\n",
    "    \n",
    "    return df\n",
    "\n",
    "\n",
    "\n",
    "\n",
    "\n",
    "def handle_outlier(df,col_name):\n",
    "    # Outlier Handling. \n",
    "    # Going to detect outlier based on standard deviation. if the data point is mean + (3* Std) --> Then classify as outlier\n",
    "    # treat the point as mean\n",
    "    #col_name = \"mis_m2_minprice\"\n",
    "    mean = df[col_name].mean()\n",
    "    std  = df[col_name].std()\n",
    "    out_pos = mean + (3 * std)\n",
    "    out_neg = mean - (3 * std)\n",
    "    cond = (df[col_name] > out_pos) | (df[col_name] < out_neg)\n",
    "    if(len(df[cond])==0):\n",
    "        print(\"No outliers to Handle!!!!!!!\")\n",
    "        return df\n",
    "    else:\n",
    "        df.loc[cond,col_name] = mean\n",
    "        return df "
   ]
  },
  {
   "cell_type": "code",
   "execution_count": 4,
   "metadata": {},
   "outputs": [],
   "source": [
    "df = pd.read_csv(\"azd.csv\")"
   ]
  },
  {
   "cell_type": "code",
   "execution_count": 5,
   "metadata": {},
   "outputs": [
    {
     "data": {
      "text/html": [
       "<div>\n",
       "<style scoped>\n",
       "    .dataframe tbody tr th:only-of-type {\n",
       "        vertical-align: middle;\n",
       "    }\n",
       "\n",
       "    .dataframe tbody tr th {\n",
       "        vertical-align: top;\n",
       "    }\n",
       "\n",
       "    .dataframe thead th {\n",
       "        text-align: right;\n",
       "    }\n",
       "</style>\n",
       "<table border=\"1\" class=\"dataframe\">\n",
       "  <thead>\n",
       "    <tr style=\"text-align: right;\">\n",
       "      <th></th>\n",
       "      <th>priceDate</th>\n",
       "      <th>itemName</th>\n",
       "      <th>state</th>\n",
       "      <th>mandiName</th>\n",
       "      <th>arrivals</th>\n",
       "      <th>unitArrivals</th>\n",
       "      <th>variety</th>\n",
       "      <th>minPrice</th>\n",
       "      <th>maxPrice</th>\n",
       "      <th>modalPrice</th>\n",
       "      <th>priceUnit</th>\n",
       "    </tr>\n",
       "  </thead>\n",
       "  <tbody>\n",
       "    <tr>\n",
       "      <th>0</th>\n",
       "      <td>2005-04-11</td>\n",
       "      <td>Potato</td>\n",
       "      <td>NCT of Delhi</td>\n",
       "      <td>Azadpur</td>\n",
       "      <td>106.0</td>\n",
       "      <td>Tonnes</td>\n",
       "      <td>F.A.Q.</td>\n",
       "      <td>300.0</td>\n",
       "      <td>663.0</td>\n",
       "      <td>475.0</td>\n",
       "      <td>Rs/Quintal</td>\n",
       "    </tr>\n",
       "    <tr>\n",
       "      <th>1</th>\n",
       "      <td>2005-04-12</td>\n",
       "      <td>Potato</td>\n",
       "      <td>NCT of Delhi</td>\n",
       "      <td>Azadpur</td>\n",
       "      <td>1745.0</td>\n",
       "      <td>Tonnes</td>\n",
       "      <td>F.A.Q.</td>\n",
       "      <td>325.0</td>\n",
       "      <td>688.0</td>\n",
       "      <td>500.0</td>\n",
       "      <td>Rs/Quintal</td>\n",
       "    </tr>\n",
       "    <tr>\n",
       "      <th>2</th>\n",
       "      <td>2005-04-13</td>\n",
       "      <td>Potato</td>\n",
       "      <td>NCT of Delhi</td>\n",
       "      <td>Azadpur</td>\n",
       "      <td>1233.0</td>\n",
       "      <td>Tonnes</td>\n",
       "      <td>F.A.Q.</td>\n",
       "      <td>300.0</td>\n",
       "      <td>688.0</td>\n",
       "      <td>488.0</td>\n",
       "      <td>Rs/Quintal</td>\n",
       "    </tr>\n",
       "    <tr>\n",
       "      <th>3</th>\n",
       "      <td>2005-04-16</td>\n",
       "      <td>Potato</td>\n",
       "      <td>NCT of Delhi</td>\n",
       "      <td>Azadpur</td>\n",
       "      <td>1654.0</td>\n",
       "      <td>Tonnes</td>\n",
       "      <td>F.A.Q.</td>\n",
       "      <td>350.0</td>\n",
       "      <td>650.0</td>\n",
       "      <td>475.0</td>\n",
       "      <td>Rs/Quintal</td>\n",
       "    </tr>\n",
       "    <tr>\n",
       "      <th>4</th>\n",
       "      <td>2005-04-18</td>\n",
       "      <td>Potato</td>\n",
       "      <td>NCT of Delhi</td>\n",
       "      <td>Azadpur</td>\n",
       "      <td>26.0</td>\n",
       "      <td>Tonnes</td>\n",
       "      <td>F.A.Q.</td>\n",
       "      <td>350.0</td>\n",
       "      <td>650.0</td>\n",
       "      <td>475.0</td>\n",
       "      <td>Rs/Quintal</td>\n",
       "    </tr>\n",
       "  </tbody>\n",
       "</table>\n",
       "</div>"
      ],
      "text/plain": [
       "    priceDate itemName         state mandiName  arrivals unitArrivals variety  \\\n",
       "0  2005-04-11   Potato  NCT of Delhi   Azadpur     106.0       Tonnes  F.A.Q.   \n",
       "1  2005-04-12   Potato  NCT of Delhi   Azadpur    1745.0       Tonnes  F.A.Q.   \n",
       "2  2005-04-13   Potato  NCT of Delhi   Azadpur    1233.0       Tonnes  F.A.Q.   \n",
       "3  2005-04-16   Potato  NCT of Delhi   Azadpur    1654.0       Tonnes  F.A.Q.   \n",
       "4  2005-04-18   Potato  NCT of Delhi   Azadpur      26.0       Tonnes  F.A.Q.   \n",
       "\n",
       "   minPrice  maxPrice  modalPrice   priceUnit  \n",
       "0     300.0     663.0       475.0  Rs/Quintal  \n",
       "1     325.0     688.0       500.0  Rs/Quintal  \n",
       "2     300.0     688.0       488.0  Rs/Quintal  \n",
       "3     350.0     650.0       475.0  Rs/Quintal  \n",
       "4     350.0     650.0       475.0  Rs/Quintal  "
      ]
     },
     "execution_count": 5,
     "metadata": {},
     "output_type": "execute_result"
    }
   ],
   "source": [
    "df.head()"
   ]
  },
  {
   "cell_type": "code",
   "execution_count": 6,
   "metadata": {},
   "outputs": [],
   "source": [
    "#Filtering the data. \n",
    "df=df[['priceDate','arrivals','minPrice','maxPrice','modalPrice']] "
   ]
  },
  {
   "cell_type": "code",
   "execution_count": 7,
   "metadata": {},
   "outputs": [],
   "source": [
    "df[\"mis_m1_minprice\"]    = df[\"minPrice\"]\n",
    "df[\"mis_m1_maxprice\"]    = df[\"maxPrice\"]\n",
    "df[\"mis_m1_modalprice\"]  = df[\"modalPrice\"]\n",
    "####\n",
    "df[\"mis_m2_minprice\"]    = df[\"minPrice\"]\n",
    "df[\"mis_m2_maxprice\"]    = df[\"maxPrice\"]\n",
    "df[\"mis_m2_modalprice\"]  = df[\"modalPrice\"]\n",
    "####"
   ]
  },
  {
   "cell_type": "code",
   "execution_count": 8,
   "metadata": {},
   "outputs": [
    {
     "name": "stdout",
     "output_type": "stream",
     "text": [
      "File already written!!!.....\n"
     ]
    }
   ],
   "source": [
    "#Writing Descriptive analysis. \n",
    "file_path =\"csv_output/descriptive_analysis.csv\"\n",
    "if os.path.exists(file_path):\n",
    "    print(\"File already written!!!.....\")\n",
    "else:\n",
    "    df.describe().to_csv(file_path)"
   ]
  },
  {
   "cell_type": "code",
   "execution_count": null,
   "metadata": {},
   "outputs": [],
   "source": []
  },
  {
   "cell_type": "code",
   "execution_count": null,
   "metadata": {},
   "outputs": [],
   "source": []
  },
  {
   "cell_type": "code",
   "execution_count": 9,
   "metadata": {},
   "outputs": [],
   "source": [
    "# Missing Value Treatment\n",
    "#Method 1 : Using mean to substitute missing values. \n",
    "col_name = \"mis_m1_minprice\"\n",
    "df = replace_mis_val_mean(df,col_name)\n",
    "\n",
    "col_name = \"mis_m1_maxprice\"\n",
    "df = replace_mis_val_mean(df,col_name)\n",
    "\n",
    "\n",
    "col_name = \"mis_m1_modalprice\"\n",
    "df = replace_mis_val_mean(df,col_name)\n",
    "\n",
    "\n"
   ]
  },
  {
   "cell_type": "code",
   "execution_count": 10,
   "metadata": {
    "scrolled": true
   },
   "outputs": [
    {
     "name": "stderr",
     "output_type": "stream",
     "text": [
      "/usr/local/lib/python3.6/site-packages/sklearn/linear_model/base.py:509: RuntimeWarning: internal gelsd driver lwork query error, required iwork dimension not returned. This is likely the result of LAPACK bug 0038, fixed in LAPACK 3.2.2 (released July 21, 2010). Falling back to 'gelss' driver.\n",
      "  linalg.lstsq(X, y)\n"
     ]
    }
   ],
   "source": [
    "# Missing Value Treatment\n",
    "#Method 2 : Using Linear Regression for filling missing values \n",
    "col_name = \"mis_m2_minprice\"\n",
    "df = mis_replace_linear_regression(df,X_col= [\"maxPrice\",\"modalPrice\"],Y_col=col_name)\n",
    "\n",
    "col_name = \"mis_m2_maxprice\"\n",
    "df = mis_replace_linear_regression(df,X_col=[\"minPrice\"] ,Y_col=col_name)\n",
    "\n",
    "\n",
    "col_name = \"mis_m2_modalprice\"\n",
    "df = mis_replace_linear_regression(df,X_col=[\"minPrice\"] ,Y_col=col_name)\n"
   ]
  },
  {
   "cell_type": "code",
   "execution_count": 48,
   "metadata": {},
   "outputs": [],
   "source": []
  },
  {
   "cell_type": "code",
   "execution_count": 55,
   "metadata": {},
   "outputs": [
    {
     "name": "stdout",
     "output_type": "stream",
     "text": [
      "No outliers to Handle!!!!!!!\n"
     ]
    }
   ],
   "source": [
    "col_name =\"mis_m2_minprice\"\n",
    "df = handle_outlier(df,col_name)\n",
    "\n",
    "col_name = \"mis_m2_maxprice\"\n",
    "df = handle_outlier(df,col_name)\n",
    "\n",
    "col_name = \"mis_m2_modalprice\"\n",
    "df = handle_outlier(df,col_name)"
   ]
  },
  {
   "cell_type": "code",
   "execution_count": null,
   "metadata": {},
   "outputs": [],
   "source": []
  },
  {
   "cell_type": "code",
   "execution_count": null,
   "metadata": {},
   "outputs": [],
   "source": []
  },
  {
   "cell_type": "code",
   "execution_count": 15,
   "metadata": {},
   "outputs": [],
   "source": [
    "df_new = df.copy()"
   ]
  },
  {
   "cell_type": "code",
   "execution_count": 19,
   "metadata": {},
   "outputs": [],
   "source": [
    "df_ts =df_new[[\"priceDate\",\"mis_m2_minprice\",\"mis_m2_maxprice\",\"mis_m2_modalprice\"]]"
   ]
  },
  {
   "cell_type": "code",
   "execution_count": 24,
   "metadata": {},
   "outputs": [],
   "source": [
    "df_ts.columns = [\"timestamp\",\"min_price\",\"max_price\",\"modal_price\"]"
   ]
  },
  {
   "cell_type": "code",
   "execution_count": null,
   "metadata": {},
   "outputs": [],
   "source": []
  },
  {
   "cell_type": "code",
   "execution_count": null,
   "metadata": {},
   "outputs": [],
   "source": []
  },
  {
   "cell_type": "code",
   "execution_count": null,
   "metadata": {},
   "outputs": [],
   "source": [
    "df.priceDate = pd.to_datetime(df.priceDate) #conveting the date column as index"
   ]
  },
  {
   "cell_type": "code",
   "execution_count": null,
   "metadata": {},
   "outputs": [],
   "source": [
    "df.set_index('priceDate', inplace=True)"
   ]
  },
  {
   "cell_type": "code",
   "execution_count": null,
   "metadata": {},
   "outputs": [],
   "source": [
    " "
   ]
  },
  {
   "cell_type": "code",
   "execution_count": null,
   "metadata": {},
   "outputs": [],
   "source": [
    "df.plot()\n",
    "plt.show()"
   ]
  },
  {
   "cell_type": "code",
   "execution_count": null,
   "metadata": {},
   "outputs": [],
   "source": [
    "df.plot(use_index=True,y='minPrice')"
   ]
  },
  {
   "cell_type": "code",
   "execution_count": null,
   "metadata": {
    "scrolled": true
   },
   "outputs": [],
   "source": [
    "#mean = numpy.mean(elements, axis=0)\n",
    "#sd = numpy.std(elements, axis=0)\n",
    "#df[df.apply(lambda x: np.abs(x - x.mean()) / x.std() < 3).all(axis=1)]\n",
    "#def remove_outlier(df, col_name):\n",
    " #   q1 = df[col_name].quantile(0.25)\n",
    " #   q3 = df[col_name].quantile(0.75)\n",
    "  #  iqr = q3-q1 #Interquartile range\n",
    "   # fence_low  = q1-1.5*iqr\n",
    "    #fence_high = q3+1.5*iqr\n",
    "    #df_out = df.loc[(df[col_name] > fence_low) & (df[col_name] < fence_high)]\n",
    "    #return df_out\n",
    "#final_list = [x for x in df['maxPrice'] if (x > mean - 2 * sd)]\n",
    "#final_list = [x for x in final_list if (x < mean + 2 * sd)]"
   ]
  },
  {
   "cell_type": "code",
   "execution_count": null,
   "metadata": {},
   "outputs": [],
   "source": [
    "# remove_outlier(df,'maxPrice')\n",
    "# remove_outlier(df,'modalPrice')\n",
    "# remove_outlier(df,'minPrice')"
   ]
  },
  {
   "cell_type": "code",
   "execution_count": null,
   "metadata": {},
   "outputs": [],
   "source": [
    "df.describe()"
   ]
  },
  {
   "cell_type": "code",
   "execution_count": null,
   "metadata": {},
   "outputs": [],
   "source": []
  },
  {
   "cell_type": "code",
   "execution_count": null,
   "metadata": {},
   "outputs": [],
   "source": [
    "df.plot(use_index=True,y='modalPrice')"
   ]
  },
  {
   "cell_type": "code",
   "execution_count": null,
   "metadata": {},
   "outputs": [],
   "source": [
    "df.plot(use_index=True,y='maxPrice')"
   ]
  },
  {
   "cell_type": "code",
   "execution_count": null,
   "metadata": {},
   "outputs": [],
   "source": [
    "df.plot(use_index=True,y='modalPrice')"
   ]
  },
  {
   "cell_type": "code",
   "execution_count": null,
   "metadata": {},
   "outputs": [],
   "source": [
    "\n"
   ]
  },
  {
   "cell_type": "code",
   "execution_count": null,
   "metadata": {},
   "outputs": [],
   "source": [
    "#rolmean=df.rolling(window=3).mean()\n",
    "def add_mean_std_cols(df,col_name,t):\n",
    "    res = df[col_name].rolling(t).agg(['mean'])\n",
    "    #res.columns = res.columns.map('_'.join)\n",
    "    #cols = np.concatenate(list(zip(df.columns, res.columns[0::2], res.columns[1::2])))\n",
    "    #final = res.join(df).loc[:, cols]\n",
    "    return res\n",
    "\n",
    "\n",
    "#for i in range(2,10):\n",
    "#   df['MA{}'.format(i)] = df.rolling(window=i).mean()\n"
   ]
  },
  {
   "cell_type": "code",
   "execution_count": null,
   "metadata": {},
   "outputs": [],
   "source": [
    "n_df_min=add_mean_std_cols(df,[\"minPrice\"],3)\n",
    "n_df_max=add_mean_std_cols(df,[\"maxPrice\"],3)\n",
    "n_df_mode=add_mean_std_cols(df,[\"modalPrice\"],3)"
   ]
  },
  {
   "cell_type": "code",
   "execution_count": null,
   "metadata": {},
   "outputs": [],
   "source": [
    "#original=plt.plot(df,color='gray',label='original')\n",
    "mean=plt.plot(n_df_min,label='mean')"
   ]
  },
  {
   "cell_type": "code",
   "execution_count": null,
   "metadata": {},
   "outputs": [],
   "source": [
    "#original=plt.plot(df,color='gray',label='original')\n",
    "mean_max=plt.plot(n_df_max,label='mean')"
   ]
  },
  {
   "cell_type": "code",
   "execution_count": null,
   "metadata": {},
   "outputs": [],
   "source": [
    "#original=plt.plot(df,color='gray',label='original')\n",
    "mean_modal=plt.plot(n_df_mode,label='mean')"
   ]
  },
  {
   "cell_type": "code",
   "execution_count": null,
   "metadata": {},
   "outputs": [],
   "source": [
    "from "
   ]
  },
  {
   "cell_type": "code",
   "execution_count": null,
   "metadata": {},
   "outputs": [],
   "source": []
  },
  {
   "cell_type": "code",
   "execution_count": null,
   "metadata": {},
   "outputs": [],
   "source": []
  }
 ],
 "metadata": {
  "kernelspec": {
   "display_name": "Python 3",
   "language": "python",
   "name": "python3"
  },
  "language_info": {
   "codemirror_mode": {
    "name": "ipython",
    "version": 3
   },
   "file_extension": ".py",
   "mimetype": "text/x-python",
   "name": "python",
   "nbconvert_exporter": "python",
   "pygments_lexer": "ipython3",
   "version": "3.6.5"
  }
 },
 "nbformat": 4,
 "nbformat_minor": 2
}
